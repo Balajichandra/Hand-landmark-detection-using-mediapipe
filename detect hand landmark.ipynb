{
 "cells": [
  {
   "cell_type": "code",
   "execution_count": 1,
   "id": "1937ab9f",
   "metadata": {},
   "outputs": [],
   "source": [
    "import mediapipe as mp\n",
    "import numpy as np\n",
    "import cv2"
   ]
  },
  {
   "cell_type": "code",
   "execution_count": 7,
   "id": "81422a64",
   "metadata": {},
   "outputs": [],
   "source": [
    "cap = cv2.VideoCapture(0)\n",
    "hands = mp.solutions.hands\n",
    "hands_mesh = hands.Hands()\n",
    "draw = mp.solutions.drawing_utils\n",
    "while True:\n",
    "    _,frm = cap.read()\n",
    "    rgb = cv2.cvtColor(frm,cv2.COLOR_BGR2RGB)\n",
    "    #rgb = cv2.cvtColor(frm,cv2.COLOR_BGR2RGB)\n",
    "    op = hands_mesh.process(rgb)\n",
    "    if op.multi_hand_landmarks:\n",
    "        for i in op.multi_hand_landmarks:\n",
    "            draw.draw_landmarks(frm,i,hands.HAND_CONNECTIONS,\n",
    "                                landmark_drawing_spec = draw.DrawingSpec(color=(0,255,0),circle_radius=2))\n",
    "    cv2.imshow(\"window\",frm)\n",
    "    if cv2.waitKey(1) == 27:\n",
    "        cv2.destroyAllWindows()\n",
    "        cap.release()\n",
    "        break"
   ]
  },
  {
   "cell_type": "code",
   "execution_count": null,
   "id": "32648410",
   "metadata": {},
   "outputs": [],
   "source": []
  }
 ],
 "metadata": {
  "kernelspec": {
   "display_name": "Python 3",
   "language": "python",
   "name": "python3"
  },
  "language_info": {
   "codemirror_mode": {
    "name": "ipython",
    "version": 3
   },
   "file_extension": ".py",
   "mimetype": "text/x-python",
   "name": "python",
   "nbconvert_exporter": "python",
   "pygments_lexer": "ipython3",
   "version": "3.6.13"
  }
 },
 "nbformat": 4,
 "nbformat_minor": 5
}
